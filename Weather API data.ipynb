{
 "cells": [
  {
   "cell_type": "code",
   "execution_count": 23,
   "metadata": {},
   "outputs": [],
   "source": [
    "import requests\n",
    "from pprint import pprint"
   ]
  },
  {
   "cell_type": "code",
   "execution_count": 15,
   "metadata": {},
   "outputs": [],
   "source": [
    "# API: Get ur own API id from openweathermap.org\n",
    "\n",
    "# URL: api.openweathermap.org/data/2.5/weather?q=city&appid= "
   ]
  },
  {
   "cell_type": "code",
   "execution_count": 17,
   "metadata": {},
   "outputs": [],
   "source": [
    "#city=str(input(\"Enter your city:\"))\n",
    "city=\"Delhi\"\n",
    "url='http://api.openweathermap.org/data/2.5/weather?q={}&appid='.format(city)\n",
    "res=requests.get(url)\n"
   ]
  },
  {
   "cell_type": "code",
   "execution_count": 18,
   "metadata": {},
   "outputs": [
    {
     "name": "stdout",
     "output_type": "stream",
     "text": [
      "<Response [200]>\n"
     ]
    }
   ],
   "source": [
    "print(res)"
   ]
  },
  {
   "cell_type": "code",
   "execution_count": 20,
   "metadata": {},
   "outputs": [],
   "source": [
    "data=res.text"
   ]
  },
  {
   "cell_type": "code",
   "execution_count": 21,
   "metadata": {},
   "outputs": [
    {
     "name": "stdout",
     "output_type": "stream",
     "text": [
      "{\"coord\":{\"lon\":77.22,\"lat\":28.67},\"weather\":[{\"id\":721,\"main\":\"Haze\",\"description\":\"haze\",\"icon\":\"50d\"}],\"base\":\"stations\",\"main\":{\"temp\":309.15,\"feels_like\":308.14,\"temp_min\":309.15,\"temp_max\":309.15,\"pressure\":1005,\"humidity\":30},\"visibility\":5000,\"wind\":{\"speed\":4.1,\"deg\":300},\"clouds\":{\"all\":40},\"dt\":1588676947,\"sys\":{\"type\":1,\"id\":9165,\"country\":\"IN\",\"sunrise\":1588637214,\"sunset\":1588685318},\"timezone\":19800,\"id\":1273294,\"name\":\"Delhi\",\"cod\":200}\n"
     ]
    }
   ],
   "source": [
    "print(data)"
   ]
  },
  {
   "cell_type": "code",
   "execution_count": 27,
   "metadata": {},
   "outputs": [
    {
     "name": "stdout",
     "output_type": "stream",
     "text": [
      "{'base': 'stations',\n",
      " 'clouds': {'all': 40},\n",
      " 'cod': 200,\n",
      " 'coord': {'lat': 28.67, 'lon': 77.22},\n",
      " 'dt': 1588676947,\n",
      " 'id': 1273294,\n",
      " 'main': {'feels_like': 308.14,\n",
      "          'humidity': 30,\n",
      "          'pressure': 1005,\n",
      "          'temp': 309.15,\n",
      "          'temp_max': 309.15,\n",
      "          'temp_min': 309.15},\n",
      " 'name': 'Delhi',\n",
      " 'sys': {'country': 'IN',\n",
      "         'id': 9165,\n",
      "         'sunrise': 1588637214,\n",
      "         'sunset': 1588685318,\n",
      "         'type': 1},\n",
      " 'timezone': 19800,\n",
      " 'visibility': 5000,\n",
      " 'weather': [{'description': 'haze', 'icon': '50d', 'id': 721, 'main': 'Haze'}],\n",
      " 'wind': {'deg': 300, 'speed': 4.1}}\n"
     ]
    }
   ],
   "source": [
    "pprint(res.json())\n",
    "data=res.json()"
   ]
  },
  {
   "cell_type": "code",
   "execution_count": 29,
   "metadata": {},
   "outputs": [
    {
     "data": {
      "text/plain": [
       "309.15"
      ]
     },
     "execution_count": 29,
     "metadata": {},
     "output_type": "execute_result"
    }
   ],
   "source": [
    "temp=data['main']['temp']\n",
    "temp"
   ]
  },
  {
   "cell_type": "code",
   "execution_count": null,
   "metadata": {},
   "outputs": [],
   "source": []
  }
 ],
 "metadata": {
  "kernelspec": {
   "display_name": "Python 3",
   "language": "python",
   "name": "python3"
  },
  "language_info": {
   "codemirror_mode": {
    "name": "ipython",
    "version": 3
   },
   "file_extension": ".py",
   "mimetype": "text/x-python",
   "name": "python",
   "nbconvert_exporter": "python",
   "pygments_lexer": "ipython3",
   "version": "3.7.7"
  }
 },
 "nbformat": 4,
 "nbformat_minor": 4
}
